{
 "cells": [
  {
   "cell_type": "markdown",
   "metadata": {},
   "source": [
    "**TUGAS 1 FUNCTIONAL PROGRAMMING** <br>\n",
    "NAMA : HALILAH ROJA NASYWA <br>\n",
    "NIM  : 121450046 <br>\n",
    "KELAS: RB <br>"
   ]
  },
  {
   "cell_type": "markdown",
   "metadata": {},
   "source": [
    "1. Jelaskan menggunakan tabel mengenai kelebihan dan kekurangan paradigma procedural dibandingkan dengan object oriented (minimal 3)!\n",
    "**Jawab:**\n",
    "\n",
    "| Paradigma | Kelebihan | Kekurangan |\n",
    "|-----------|-----------|------------|\n",
    "| **Procedural** | 1. Lebih mudah dipahami sebagai programmer pemula. <br> 2. Lebih efisien dari segi memori dan performa. <br> 3. Struktur program linear dan mudah diterapkan. <br> 4. Alur program lebih mudah untuk ditelusuri. | 1. Kurang fleksibel dan sulit untuk memodelkan objek-objek dalam dunia nyata. <br> 2. Lebih sulit untuk membuat kode yang reusable dan modulable. <br> 3. Tidak memiliki access modifiers. <br> 4. Operasi program lebih diutamakan dibandingkan dengan pengolahan data. |\n",
    "|**Object Oriented**|1. Maintenance program yang lebih mudah. <br> 2. OOP memiliki access modifiers seperti public, protected, dan private. <br> 3. Cocok untuk project atau aplikasi yang kompleks. <br> 4. Script program lebih rapih dan dapat digunakan berulang. |1. Lebih sulit dan kompleks untuk dipelajari. <br> 2. Ukuran object oriented programming lebih besar. <br> 2. Runtime program lebih lambat. <br> 3. Tidak semua masalah dapat diatasi dengan object oriented. |"
   ]
  },
  {
   "cell_type": "markdown",
   "metadata": {},
   "source": [
    "2. Jelaskan menggunakan tabel mengenai kelebihan dan kekurangan paradigma object oriented dibandingkan dengan functional (minimal 3)!\n",
    "**Jawab:**\n",
    "\n",
    "| Paradigma | Kelebihan | Kekurangan |\n",
    "|-----------|-----------|------------|\n",
    "|**Object Oriented**|1. Maintenance program yang lebih mudah. <br> 2. OOP memiliki access modifiers seperti public, protected, dan private. <br> 3. Cocok untuk project atau aplikasi yang kompleks. <br> 4. Script program lebih rapih dan dapat digunakan berulang. |1. Lebih sulit dan kompleks untuk dipelajari. <br> 2. Ukuran object oriented programming lebih besar. <br> 2. Runtime program lebih lambat. <br> 3. Tidak semua masalah dapat diatasi dengan object oriented. |\n",
    "|**Functional**| 1. Lebih mudah dipahami. <br> 2. Kode lebih mudah dibaca dan mudah dimengerti. <br> 3. Pengujian dan debugging lebih mudah. | 1. Nilai-nilai yang tidak dapat diubah dan rekursi dapat menyebabkan penurunan kinerja. <br> 2. Sulit menggabungkannya dengan rest of application dan I / O. <br> 3. Menulis program dengan gaya rekursif daripada menggunakan loop dapat sedikit mengintimidasi. |"
   ]
  },
  {
   "cell_type": "markdown",
   "metadata": {},
   "source": [
    "3. Jelaskan menggunakan tabel mengenai kelebihan dan kekurangan paradigma procedural dibandingkan dengan functional (minimal 3)!\n",
    "**Jawab:**\n",
    "\n",
    "| Paradigma | Kelebihan | Kekurangan |\n",
    "|-----------|-----------|------------|\n",
    "| **Procedural** | 1. Lebih mudah dipahami sebagai programmer pemula. <br> 2. Lebih efisien dari segi memori dan performa. <br> 3. Struktur program linear dan mudah diterapkan. <br> 4. Alur program lebih mudah untuk ditelusuri. | 1. Kurang fleksibel dan sulit untuk memodelkan objek-objek dalam dunia nyata. <br> 2. Lebih sulit untuk membuat kode yang reusable dan modulable. <br> 3. Tidak memiliki access modifiers. <br> 4. Operasi program lebih diutamakan dibandingkan dengan pengolahan data. |\n",
    "|**Functional**| 1. Lebih mudah dipahami. <br> 2. Kode lebih mudah dibaca dan mudah dimengerti. <br> 3. Pengujian dan debugging lebih mudah. | 1. Nilai-nilai yang tidak dapat diubah dan rekursi dapat menyebabkan penurunan kinerja. <br> 2. Sulit menggabungkannya dengan rest of application dan I / O. <br> 3. Menulis program dengan gaya rekursif daripada menggunakan loop dapat sedikit mengintimidasi. |"
   ]
  },
  {
   "cell_type": "markdown",
   "metadata": {},
   "source": [
    "4. Apa yang dimaksud dengan pure functional programming language? <br>\n",
    "**Jawab:**\n",
    "\n",
    "Pure functional programming language adalah fungsi yang melakukan suatu operasi yang hasilnya hanya bergantung dari input fungsi tersebut.  Output apa pun yang mereka hasilkan adalah nilai pengembalian yang mereka berikan. Fungsi ini juga tidak menggunakan variabel atau pernyataan penugasan. Oleh karena itu, iterasi tidak dimungkinkan karena dikontrol oleh variabel. Itu sebabnya pengulangan harus dilakukan dengan menggunakan rekursi daripada dengan iterasi. "
   ]
  },
  {
   "cell_type": "markdown",
   "metadata": {},
   "source": [
    "5. Dari bahasa pemrograman FP di slide sebelumnya (slide 14), manakah yang termasuk pure functional programming language? <br>\n",
    "**Jawab:**\n",
    "\n",
    "Haskell dan JavaScript adalah pure functional programming language."
   ]
  },
  {
   "cell_type": "markdown",
   "metadata": {},
   "source": [
    "6. Membuat program Simple Password encryption."
   ]
  },
  {
   "cell_type": "code",
   "execution_count": 7,
   "metadata": {},
   "outputs": [],
   "source": [
    "from functools import reduce"
   ]
  },
  {
   "cell_type": "code",
   "execution_count": 8,
   "metadata": {},
   "outputs": [
    {
     "name": "stdout",
     "output_type": "stream",
     "text": [
      "TX-Sg-TU-TZ-TW-Si-TZ-Sc-TU-Sc-TV-Sd-Sg-TZ-Sd-Sc-T[-TQ+T[-Sh-T]-TV-Si-T[-TQ+Qg-\n"
     ]
    }
   ],
   "source": [
    "def encrypt(char: str) -> str: \n",
    "    ascii = ord(char)\n",
    "    value_1 = (ascii // 26) + 80\n",
    "    value_2 = (ascii % 26 ) + 80\n",
    "    value_3 = '+' if value_1 > value_2 else '-'\n",
    "    return chr(value_1) + chr(value_2) + value_3\n",
    "\n",
    "def pw_encrypt(password: str) -> str:\n",
    "    return reduce(lambda result, char: result + encrypt(char), password, '')\n",
    "password = \"pemrogramanberbasisfungsi1\"\n",
    "encrypted_password = pw_encrypt(password)\n",
    "print(encrypted_password)"
   ]
  }
 ],
 "metadata": {
  "kernelspec": {
   "display_name": "Python 3.11.0 64-bit",
   "language": "python",
   "name": "python3"
  },
  "language_info": {
   "codemirror_mode": {
    "name": "ipython",
    "version": 3
   },
   "file_extension": ".py",
   "mimetype": "text/x-python",
   "name": "python",
   "nbconvert_exporter": "python",
   "pygments_lexer": "ipython3",
   "version": "3.11.0"
  },
  "orig_nbformat": 4,
  "vscode": {
   "interpreter": {
    "hash": "5238573367df39f7286bb46f9ff5f08f63a01a80960060ce41e3c79b190280fa"
   }
  }
 },
 "nbformat": 4,
 "nbformat_minor": 2
}
